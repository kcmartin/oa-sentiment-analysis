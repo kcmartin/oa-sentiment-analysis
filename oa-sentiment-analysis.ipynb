{
 "cells": [
  {
   "cell_type": "code",
   "execution_count": 2,
   "id": "b3c90be1-be8e-4b84-a4a0-f055e7ac6697",
   "metadata": {
    "tags": []
   },
   "outputs": [],
   "source": [
    "import os"
   ]
  },
  {
   "cell_type": "code",
   "execution_count": 3,
   "id": "450f9363-51ac-44a8-8a50-8f06929fe941",
   "metadata": {
    "tags": []
   },
   "outputs": [],
   "source": [
    "import praw\n",
    "import openai"
   ]
  },
  {
   "cell_type": "code",
   "execution_count": 4,
   "id": "63200351-0918-412e-b911-6ee76961aef5",
   "metadata": {
    "tags": []
   },
   "outputs": [],
   "source": [
    "client_id = os.getenv(\"REDDIT_CLIENT\")\n",
    "client_secret = os.getenv(\"REDDIT_SECRET\")"
   ]
  },
  {
   "cell_type": "code",
   "execution_count": 7,
   "id": "9796f449-e1cc-4202-a363-dde04a963e9b",
   "metadata": {
    "tags": []
   },
   "outputs": [],
   "source": [
    "reddit = praw.Reddit(client_id=client_id,\n",
    "                     client_secret=client_secret,\n",
    "                     user_agent=\"ai sentiment example (by u/karidwyn)\"\n",
    "                    )"
   ]
  },
  {
   "cell_type": "code",
   "execution_count": 9,
   "id": "9ef00e84-556e-47ba-8fed-a3282accc3d3",
   "metadata": {
    "tags": []
   },
   "outputs": [
    {
     "name": "stdout",
     "output_type": "stream",
     "text": [
      "Rate My Portfolio - r/Stocks Quarterly Thread March 2023\n",
      "r/Stocks Daily Discussion & Technicals Tuesday - Mar 28, 2023\n",
      "Alibaba to split into 6 units\n",
      "Apple (AAPL) to Spend Billions More on Entertainment\n",
      "Disney will start laying off employees this week, CEO Bob Iger says in memo\n"
     ]
    }
   ],
   "source": [
    "for submission in reddit.subreddit(\"stocks\").hot(limit=5):\n",
    "    print(submission.title)"
   ]
  },
  {
   "cell_type": "code",
   "execution_count": 10,
   "id": "de502a0a-1f2c-4f91-af98-3c73f00fbf5c",
   "metadata": {
    "tags": []
   },
   "outputs": [],
   "source": [
    "subreddit_stocks = reddit.subreddit(\"stocks\")"
   ]
  },
  {
   "cell_type": "code",
   "execution_count": 11,
   "id": "00108bac-606b-4b73-8728-81117d23038e",
   "metadata": {
    "tags": []
   },
   "outputs": [
    {
     "data": {
      "text/plain": [
       "'Stocks - Investing and trading for all'"
      ]
     },
     "execution_count": 11,
     "metadata": {},
     "output_type": "execute_result"
    }
   ],
   "source": [
    "subreddit_stocks.title"
   ]
  },
  {
   "cell_type": "code",
   "execution_count": 12,
   "id": "957c0220-7495-45df-ad0f-eacd1a04d10f",
   "metadata": {
    "tags": []
   },
   "outputs": [
    {
     "data": {
      "text/plain": [
       "4881"
      ]
     },
     "execution_count": 12,
     "metadata": {},
     "output_type": "execute_result"
    }
   ],
   "source": [
    "subreddit_stocks.accounts_active"
   ]
  },
  {
   "cell_type": "code",
   "execution_count": 18,
   "id": "6325db65-0eea-4b78-b4d8-6c4451513014",
   "metadata": {
    "tags": []
   },
   "outputs": [
    {
     "name": "stdout",
     "output_type": "stream",
     "text": [
      "Rate My Portfolio - r/Stocks Quarterly Thread March 2023\n",
      "I am 26, so I have several decades until retirement. My goal is to hold the stocks in my portfolio perpetually, though I'm not reserved to make adjustments and sell when a) I see an opportunity to take profits b) my thesis changes. My long term goal is passive income generation, though I don't chase yields. I don't pay much attention to valuation or macro, as I think that since I plan on holding these stocks for decades while buying every month, those don't matter to me much. I invest regularly every month, so I'm okay with buying at a higher valuation at times and lower valuation at other times. In my opinion, buying at the best possible time is more difficult than buying a good company. That said, if I see an undervalued stock I like, I don't hesitate to buy more and when I make my regular contributions, I try weigh towards stocks that might have been beaten down or seem undervalued. My last review in one of these was [Dec 2021](https://www.reddit.com/r/stocks/comments/r6bdjt/rate_my_portfolio_rstocks_quarterly_thread/hn1ot2t/). Since then, I have made some adjustments, mostly by researching new companies and updating what I focus on when doing my analysis. I am pretty comfortable with my current portfolio and can see myself holding any of these companies for decades (that surely won't be the case, but I'm okay with that; not all of these will be good investments, but most of them should, I think).\n",
      "\n",
      "My goal is not doing 50% in a year or buying low and selling high. My goal is to outperform the index modestly, at maybe 2-3% annually, which would compound very nicely over decades. I'm okay with the risk that I underperform at a modest rate. I want to avoid making drastic changes to my portfolio depending on macro environment.\n",
      "\n",
      "I like stocks that are quality companies with:\n",
      "\n",
      "-\tA sustainable business model - high cash flow generation, high ROIC / ROCE, good balance sheet. Bonus points for recurring, diversified revenue, and optionality.\n",
      "-\tBusiness model and products I understand, or at least understand their value. I don't think I'll ever understand ASML's machines, but I understand why it's one of a kind company.\n",
      "-\tA wide moat. Bonus points are for brand value, network effect, IP, barriers to entry / high switching costs, supply chain, etc. I am okay with paying a high multiple for a company that cannot be replicated by throwing money at the problem. Almost every company I own scores very high in this regard in my own checklist.\n",
      "-\tHigh margins. I focus mostly on gross margin, but consider other margin metrics, too.\n",
      "-\tSustainable buybacks and dividend growth.\n",
      "-\tGreat management.\n",
      "\n",
      "Not every company I own scores high in each of these, but together they fit my investment goals very well.\n",
      "\n",
      "I used to have an allocation for growth in my portfolio, but overtime, I have decided to fully target quality companies and compounders with a great track record. I realized that it is never too late to buy into a company once it becomes profitable and sustainable. And if I miss a few 10-baggers because of restraint from unprofitable companies, I'll be okay with that.\n",
      "\n",
      "My current allocation is 96% equity, with the rest being a single commodity holding - a carbon allowance ETF (CARB on BIT)\n",
      "\n",
      "Of the 96% equity, 1/3 (32%) is in diversified ETFs:\n",
      "\n",
      "| **Name**                 | **Target allocation** |\n",
      "|--------------------------|----------------------:|\n",
      "| **MSCI World**           | 24,0%                 |\n",
      "| **MSCI World Small Cap** | 4,0%                  |\n",
      "| **MSCI EM IMI**          | 4,0%                  |\n",
      "\n",
      "The other 2/3s are stocks, structured as following, ordered by my target weight (descending):\n",
      "\n",
      "| **Name**                        | **Ticker** | **Target allocation** |\n",
      "|---------------------------------|:----------:|----------------------:|\n",
      "| **Microsoft**                   | MSFT       | 6,00%                 |\n",
      "| **Apple**                       | AAPL       | 5,50%                 |\n",
      "| **ASML Holding**                | ASML       | 5,50%                 |\n",
      "| **Brookfield Corporation**      | BN         | 4,00%                 |\n",
      "| **Costco**                      | COST       | 4,00%                 |\n",
      "| **MasterCard**                  | MA         | 4,00%                 |\n",
      "| **Novo Nordisk**                | NVO        | 4,00%                 |\n",
      "| **Ulta Beauty**                 | ULTA       | 4,00%                 |\n",
      "| **Visa**                        | V          | 4,00%                 |\n",
      "| **Alphabet**                    | GOOG       | 4,00%                 |\n",
      "| **Johnson and Johnson**         | JNJ        | 3,00%                 |\n",
      "| **Home Depot**                  | HD         | 3,00%                 |\n",
      "| **Lockheed Martin**             | LMT        | 3,00%                 |\n",
      "| **Union Pacific**               | UNP        | 3,00%                 |\n",
      "| **Intuitive Surgical**          | ISRG       | 2,50%                 |\n",
      "| **Adobe**                       | ADBE       | 2,50%                 |\n",
      "| **Brookfield Asset Management** | BAM        | 2,00%                 |\n",
      "\n",
      "Edit: I also have two retirement accounts that are both 100% MSCI World.\n",
      "24 Years old.\n",
      "\n",
      "GOOGL 17% , META 17%, V 15%, MSFT 13%, AAPL 13%, MO 11%, Treasury ETF 4%, C 3%, XLRE 3%, AMZN 2%, GM 1%.\n",
      "\n",
      "This is my taxable portfolio, my ROTH is all in SP500 / Growth mutual funds.\n",
      "\n",
      "My current goals are to build my positions in AMZN and Short-Term US Treasuries to 10% Each. Also, I want to build a position into XLF.\n",
      "r/Stocks Daily Discussion & Technicals Tuesday - Mar 28, 2023\n",
      "This falloff in the daily comment volume must be some kind of indicator. Like a light switch.\n",
      "\n",
      "Did we all tire ourselves out on the markets last week?\n",
      "Looks like a slow day. I guess [I didn't miss anymore of this?](https://i.imgur.com/ndHiJAA.png)\n",
      "Alibaba to split into 6 units\n",
      "Unlocks business value, allows it to be carved out and less threatening to the CCP\n",
      "What does this mean for existing shareholders? Will they get a slice of each of these companies?\n",
      "Apple should end their Google search partnership to make an additional $15 billion in revenue\n",
      "15B in revenue vs 15B in profit? Wonder what's the better choice. Especially when you can have Google writing you blank cheques. Zero costs to Apple.\n",
      "People are just going to use the apple search bar to go to Google\n",
      "Apple launches its Pay Later service\n",
      "Big news, especially for AFRM which is -9% on the day.\n",
      "alright, time to finance a pizza\n"
     ]
    }
   ],
   "source": [
    "for post in subreddit_stocks.hot(limit=5):\n",
    "    print(post.title)\n",
    "    submission = reddit.submission(post.id)\n",
    "    #print the top 2 comments per title submission\n",
    "    counter = 0\n",
    "    for comment in submission.comments:\n",
    "        if comment.body == '[deleted]':\n",
    "            pass\n",
    "        else:\n",
    "            print(comment.body)\n",
    "        counter+=1\n",
    "        if counter == 2:\n",
    "            break"
   ]
  },
  {
   "cell_type": "code",
   "execution_count": 28,
   "id": "3dbc6cec-7596-4b86-98ed-54ee3782fcca",
   "metadata": {
    "tags": []
   },
   "outputs": [],
   "source": [
    "def get_titles_and_comments(subreddit=\"stocks\",limit=6,num_comments=3,skip_first=2):\n",
    "    subreddit = reddit.subreddit(subreddit)\n",
    "    title_and_comments = {}\n",
    "    \n",
    "    for counter,post in enumerate(subreddit.hot(limit=limit)):\n",
    "        \n",
    "        if counter < skip_first:\n",
    "            continue\n",
    "            \n",
    "        counter += (1-skip_first)\n",
    "        \n",
    "        title_and_comments[counter] = \"\"\n",
    "        submission = reddit.submission(post.id)\n",
    "        title = post.title\n",
    "        \n",
    "        title_and_comments[counter] += 'Title: '+title+\"\\n\\n\"\n",
    "        title_and_comments[counter] += \"Comments: \\n\\n\"\n",
    "        \n",
    "        comment_counter = 0\n",
    "        for comment in submission.comments:\n",
    "            if not comment.body == \"[deleted]\":\n",
    "                title_and_comments[counter] += comment.body+\"\\n\"\n",
    "                comment_counter += 1\n",
    "            if comment_counter == num_comments:\n",
    "                break\n",
    "    return title_and_comments\n"
   ]
  },
  {
   "cell_type": "code",
   "execution_count": 29,
   "id": "1febb97c-74c8-4c03-abef-bc2299bb4807",
   "metadata": {
    "tags": []
   },
   "outputs": [],
   "source": [
    "titles_and_comments = get_titles_and_comments()"
   ]
  },
  {
   "cell_type": "code",
   "execution_count": 30,
   "id": "0fdae04f-ecc6-4ed5-a578-990bdf9aa79d",
   "metadata": {
    "tags": []
   },
   "outputs": [
    {
     "data": {
      "text/plain": [
       "{1: 'Title: Apple launches its Pay Later service\\n\\nComments: \\n\\nalright, time to finance a pizza\\nBig news, especially for AFRM which is -9% on the day.\\nI will now be financing every day goods like apples and sandwiches 🤷🏼\\u200d♂️ charge it to the game, Apple.\\n',\n",
       " 2: 'Title: Alibaba to split into 6 units\\n\\nComments: \\n\\nUnlocks business value, allows it to be carved out and less threatening to the CCP\\nWhat does this mean for existing shareholders? Will they get a slice of each of these companies?\\nSo that’s why Jack Ma suddenly reappeared\\n',\n",
       " 3: 'Title: Apple (AAPL) to Spend Billions More on Entertainment\\n\\nComments: \\n\\nI think content creation is really there to add value to their products. \\n\\nNetflix has 31.6bn revenue and Apple has 394.3bn revenue.\\n\\nChasing the competitive streaming dollars is such a poor use of cash. But driving more product sales and bringing people into the Apple ecosystem is far more profitable.\\n\\nNetflix would rather sell $1000 devices every 2 years than collecting $7 per month that can be shared by multiple people and cancelled anytime.\\nPlenty of people out there that need jobs after all the recent layoffs.\\nWeird efforts. Why is gaming nowhere to be found 😭 I swear since yearrrrrrs people are having to buy bulky Windows rig only to play games. If Apple would just pour 2-3 billions into this sector and set some initiatives more companies would build for Mac. Id never look back at Windows again. \\n\\nI already do all my coding/designing etc on Mac but always since years have to buy a Windows gaming machine. Same with all my colleagues at work. Then all the hassle with wiring up 2 systems etc. ughhhh such a missed opportunity by Apple.\\n',\n",
       " 4: \"Title: Lululemon earnings - shares jump as holiday-quarter sales surge\\n\\nComments: \\n\\nBig fan of this company for somehow convincing chicks at the gym to leave nothing to the imagination\\nBought my first pair recently. Gotta say, The quality of material on the joggers are out of this world, I can see now why people love Lulu's. I'll definitely be buying myself some more pairs in the future.\\nI have a few of their clothings. They're pretty good quality but way overpriced.\\n\"}"
      ]
     },
     "execution_count": 30,
     "metadata": {},
     "output_type": "execute_result"
    }
   ],
   "source": [
    "titles_and_comments"
   ]
  },
  {
   "cell_type": "code",
   "execution_count": 31,
   "id": "231764b6-36e8-4946-b6a1-4553040da1c2",
   "metadata": {
    "tags": []
   },
   "outputs": [],
   "source": [
    "def create_prompt(title_and_comments):\n",
    "\n",
    "    task = \"Return the stock ticker or company in the following heading and comments and classify the sentiment. If no ticker or company is mentioned write 'No company mentioned':\\n\\n\"\n",
    "    return task + title_and_comments"
   ]
  },
  {
   "cell_type": "code",
   "execution_count": 32,
   "id": "5cace760-39a6-454c-aa1a-53a3c168737d",
   "metadata": {
    "tags": []
   },
   "outputs": [
    {
     "name": "stdout",
     "output_type": "stream",
     "text": [
      "Title: Apple launches its Pay Later service\n",
      "\n",
      "Comments: \n",
      "\n",
      "alright, time to finance a pizza\n",
      "Big news, especially for AFRM which is -9% on the day.\n",
      "I will now be financing every day goods like apples and sandwiches 🤷🏼‍♂️ charge it to the game, Apple.\n",
      "\n"
     ]
    }
   ],
   "source": [
    "print(titles_and_comments[1])"
   ]
  },
  {
   "cell_type": "code",
   "execution_count": 34,
   "id": "195f398a-a81b-4549-a539-9ccc027cec34",
   "metadata": {
    "tags": []
   },
   "outputs": [
    {
     "name": "stdout",
     "output_type": "stream",
     "text": [
      "Return the stock ticker or company in the following heading and comments and classify the sentiment. If no ticker or company is mentioned write 'No company mentioned':\n",
      "\n",
      "Title: Apple launches its Pay Later service\n",
      "\n",
      "Comments: \n",
      "\n",
      "alright, time to finance a pizza\n",
      "Big news, especially for AFRM which is -9% on the day.\n",
      "I will now be financing every day goods like apples and sandwiches 🤷🏼‍♂️ charge it to the game, Apple.\n",
      "\n"
     ]
    }
   ],
   "source": [
    "print(create_prompt(titles_and_comments[1]))"
   ]
  },
  {
   "cell_type": "code",
   "execution_count": 37,
   "id": "a1aaf394-d3ef-47f8-a8d0-650dd2505107",
   "metadata": {
    "tags": []
   },
   "outputs": [
    {
     "name": "stdout",
     "output_type": "stream",
     "text": [
      "Title: Apple launches its Pay Later service\n",
      "\n",
      "Comments: \n",
      "\n",
      "alright, time to finance a pizza\n",
      "Big news, especially for AFRM which is -9% on the day.\n",
      "I will now be financing every day goods like apples and sandwiches 🤷🏼‍♂️ charge it to the game, Apple.\n",
      "\n",
      "Sentiment Report from OpenAI: \n",
      "Company: Apple \n",
      "Sentiment: Positive\n",
      "------------------------------\n",
      "Title: Alibaba to split into 6 units\n",
      "\n",
      "Comments: \n",
      "\n",
      "Unlocks business value, allows it to be carved out and less threatening to the CCP\n",
      "What does this mean for existing shareholders? Will they get a slice of each of these companies?\n",
      "So that’s why Jack Ma suddenly reappeared\n",
      "\n",
      "Sentiment Report from OpenAI: \n",
      "Alibaba\n",
      "------------------------------\n",
      "Title: Apple (AAPL) to Spend Billions More on Entertainment\n",
      "\n",
      "Comments: \n",
      "\n",
      "I think content creation is really there to add value to their products. \n",
      "\n",
      "Netflix has 31.6bn revenue and Apple has 394.3bn revenue.\n",
      "\n",
      "Chasing the competitive streaming dollars is such a poor use of cash. But driving more product sales and bringing people into the Apple ecosystem is far more profitable.\n",
      "\n",
      "Netflix would rather sell $1000 devices every 2 years than collecting $7 per month that can be shared by multiple people and cancelled anytime.\n",
      "Plenty of people out there that need jobs after all the recent layoffs.\n",
      "Weird efforts. Why is gaming nowhere to be found 😭 I swear since yearrrrrrs people are having to buy bulky Windows rig only to play games. If Apple would just pour 2-3 billions into this sector and set some initiatives more companies would build for Mac. Id never look back at Windows again. \n",
      "\n",
      "I already do all my coding/designing etc on Mac but always since years have to buy a Windows gaming machine. Same with all my colleagues at work. Then all the hassle with wiring up 2 systems etc. ughhhh such a missed opportunity by Apple.\n",
      "\n",
      "Sentiment Report from OpenAI: \n",
      "Company: Apple (AAPL) \n",
      "Sentiment: Neutral\n",
      "------------------------------\n",
      "Title: Lululemon earnings - shares jump as holiday-quarter sales surge\n",
      "\n",
      "Comments: \n",
      "\n",
      "Big fan of this company for somehow convincing chicks at the gym to leave nothing to the imagination\n",
      "Bought my first pair recently. Gotta say, The quality of material on the joggers are out of this world, I can see now why people love Lulu's. I'll definitely be buying myself some more pairs in the future.\n",
      "I have a few of their clothings. They're pretty good quality but way overpriced.\n",
      "\n",
      "Sentiment Report from OpenAI: \n",
      "Company: Lululemon \n",
      "Sentiment: Positive\n",
      "------------------------------\n"
     ]
    }
   ],
   "source": [
    "for key, title_and_comments in titles_and_comments.items():\n",
    "    \n",
    "    prompt = create_prompt(title_and_comments)\n",
    "    \n",
    "    response = openai.Completion.create(engine=\"text-davinci-003\",\n",
    "                                                prompt=prompt,\n",
    "                                                max_tokens=256,\n",
    "                                                temperature=0,\n",
    "                                                top_p=1.0,\n",
    "                                                frequency_penalty=0.0,\n",
    "                                                presence_penalty=0.0)\n",
    "    print(title_and_comments)\n",
    "    print(\"Sentiment Report from OpenAI: \" + response[\"choices\"][0][\"text\"])\n",
    "    print(\"-\"*30)"
   ]
  },
  {
   "cell_type": "code",
   "execution_count": null,
   "id": "14fbd500-ab4e-4f4c-82ba-723746367c26",
   "metadata": {},
   "outputs": [],
   "source": []
  }
 ],
 "metadata": {
  "kernelspec": {
   "display_name": "Python 3 (ipykernel)",
   "language": "python",
   "name": "python3"
  },
  "language_info": {
   "codemirror_mode": {
    "name": "ipython",
    "version": 3
   },
   "file_extension": ".py",
   "mimetype": "text/x-python",
   "name": "python",
   "nbconvert_exporter": "python",
   "pygments_lexer": "ipython3",
   "version": "3.11.2"
  }
 },
 "nbformat": 4,
 "nbformat_minor": 5
}
