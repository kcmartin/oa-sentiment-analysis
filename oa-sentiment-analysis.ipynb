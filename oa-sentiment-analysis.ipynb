{
 "cells": [
  {
   "cell_type": "code",
   "execution_count": 2,
   "id": "b3c90be1-be8e-4b84-a4a0-f055e7ac6697",
   "metadata": {
    "tags": []
   },
   "outputs": [],
   "source": [
    "import os"
   ]
  },
  {
   "cell_type": "code",
   "execution_count": 3,
   "id": "450f9363-51ac-44a8-8a50-8f06929fe941",
   "metadata": {
    "tags": []
   },
   "outputs": [],
   "source": [
    "import praw\n",
    "import openai"
   ]
  },
  {
   "cell_type": "code",
   "execution_count": 4,
   "id": "63200351-0918-412e-b911-6ee76961aef5",
   "metadata": {
    "tags": []
   },
   "outputs": [],
   "source": [
    "client_id = os.getenv(\"REDDIT_CLIENT\")\n",
    "client_secret = os.getenv(\"REDDIT_SECRET\")"
   ]
  },
  {
   "cell_type": "code",
   "execution_count": 7,
   "id": "9796f449-e1cc-4202-a363-dde04a963e9b",
   "metadata": {
    "tags": []
   },
   "outputs": [],
   "source": [
    "reddit = praw.Reddit(client_id=client_id,\n",
    "                     client_secret=client_secret,\n",
    "                     user_agent=\"ai sentiment example (by u/karidwyn)\"\n",
    "                    )"
   ]
  },
  {
   "cell_type": "code",
   "execution_count": 9,
   "id": "9ef00e84-556e-47ba-8fed-a3282accc3d3",
   "metadata": {
    "tags": []
   },
   "outputs": [
    {
     "name": "stdout",
     "output_type": "stream",
     "text": [
      "Rate My Portfolio - r/Stocks Quarterly Thread March 2023\n",
      "r/Stocks Daily Discussion & Technicals Tuesday - Mar 28, 2023\n",
      "Alibaba to split into 6 units\n",
      "Apple (AAPL) to Spend Billions More on Entertainment\n",
      "Disney will start laying off employees this week, CEO Bob Iger says in memo\n"
     ]
    }
   ],
   "source": [
    "for submission in reddit.subreddit(\"stocks\").hot(limit=5):\n",
    "    print(submission.title)"
   ]
  },
  {
   "cell_type": "code",
   "execution_count": 10,
   "id": "de502a0a-1f2c-4f91-af98-3c73f00fbf5c",
   "metadata": {
    "tags": []
   },
   "outputs": [],
   "source": [
    "subreddit_stocks = reddit.subreddit(\"stocks\")"
   ]
  },
  {
   "cell_type": "code",
   "execution_count": 11,
   "id": "00108bac-606b-4b73-8728-81117d23038e",
   "metadata": {
    "tags": []
   },
   "outputs": [
    {
     "data": {
      "text/plain": [
       "'Stocks - Investing and trading for all'"
      ]
     },
     "execution_count": 11,
     "metadata": {},
     "output_type": "execute_result"
    }
   ],
   "source": [
    "subreddit_stocks.title"
   ]
  },
  {
   "cell_type": "code",
   "execution_count": 12,
   "id": "957c0220-7495-45df-ad0f-eacd1a04d10f",
   "metadata": {
    "tags": []
   },
   "outputs": [
    {
     "data": {
      "text/plain": [
       "4881"
      ]
     },
     "execution_count": 12,
     "metadata": {},
     "output_type": "execute_result"
    }
   ],
   "source": [
    "subreddit_stocks.accounts_active"
   ]
  },
  {
   "cell_type": "code",
   "execution_count": 18,
   "id": "6325db65-0eea-4b78-b4d8-6c4451513014",
   "metadata": {
    "tags": []
   },
   "outputs": [
    {
     "name": "stdout",
     "output_type": "stream",
     "text": [
      "Rate My Portfolio - r/Stocks Quarterly Thread March 2023\n",
      "I am 26, so I have several decades until retirement. My goal is to hold the stocks in my portfolio perpetually, though I'm not reserved to make adjustments and sell when a) I see an opportunity to take profits b) my thesis changes. My long term goal is passive income generation, though I don't chase yields. I don't pay much attention to valuation or macro, as I think that since I plan on holding these stocks for decades while buying every month, those don't matter to me much. I invest regularly every month, so I'm okay with buying at a higher valuation at times and lower valuation at other times. In my opinion, buying at the best possible time is more difficult than buying a good company. That said, if I see an undervalued stock I like, I don't hesitate to buy more and when I make my regular contributions, I try weigh towards stocks that might have been beaten down or seem undervalued. My last review in one of these was [Dec 2021](https://www.reddit.com/r/stocks/comments/r6bdjt/rate_my_portfolio_rstocks_quarterly_thread/hn1ot2t/). Since then, I have made some adjustments, mostly by researching new companies and updating what I focus on when doing my analysis. I am pretty comfortable with my current portfolio and can see myself holding any of these companies for decades (that surely won't be the case, but I'm okay with that; not all of these will be good investments, but most of them should, I think).\n",
      "\n",
      "My goal is not doing 50% in a year or buying low and selling high. My goal is to outperform the index modestly, at maybe 2-3% annually, which would compound very nicely over decades. I'm okay with the risk that I underperform at a modest rate. I want to avoid making drastic changes to my portfolio depending on macro environment.\n",
      "\n",
      "I like stocks that are quality companies with:\n",
      "\n",
      "-\tA sustainable business model - high cash flow generation, high ROIC / ROCE, good balance sheet. Bonus points for recurring, diversified revenue, and optionality.\n",
      "-\tBusiness model and products I understand, or at least understand their value. I don't think I'll ever understand ASML's machines, but I understand why it's one of a kind company.\n",
      "-\tA wide moat. Bonus points are for brand value, network effect, IP, barriers to entry / high switching costs, supply chain, etc. I am okay with paying a high multiple for a company that cannot be replicated by throwing money at the problem. Almost every company I own scores very high in this regard in my own checklist.\n",
      "-\tHigh margins. I focus mostly on gross margin, but consider other margin metrics, too.\n",
      "-\tSustainable buybacks and dividend growth.\n",
      "-\tGreat management.\n",
      "\n",
      "Not every company I own scores high in each of these, but together they fit my investment goals very well.\n",
      "\n",
      "I used to have an allocation for growth in my portfolio, but overtime, I have decided to fully target quality companies and compounders with a great track record. I realized that it is never too late to buy into a company once it becomes profitable and sustainable. And if I miss a few 10-baggers because of restraint from unprofitable companies, I'll be okay with that.\n",
      "\n",
      "My current allocation is 96% equity, with the rest being a single commodity holding - a carbon allowance ETF (CARB on BIT)\n",
      "\n",
      "Of the 96% equity, 1/3 (32%) is in diversified ETFs:\n",
      "\n",
      "| **Name**                 | **Target allocation** |\n",
      "|--------------------------|----------------------:|\n",
      "| **MSCI World**           | 24,0%                 |\n",
      "| **MSCI World Small Cap** | 4,0%                  |\n",
      "| **MSCI EM IMI**          | 4,0%                  |\n",
      "\n",
      "The other 2/3s are stocks, structured as following, ordered by my target weight (descending):\n",
      "\n",
      "| **Name**                        | **Ticker** | **Target allocation** |\n",
      "|---------------------------------|:----------:|----------------------:|\n",
      "| **Microsoft**                   | MSFT       | 6,00%                 |\n",
      "| **Apple**                       | AAPL       | 5,50%                 |\n",
      "| **ASML Holding**                | ASML       | 5,50%                 |\n",
      "| **Brookfield Corporation**      | BN         | 4,00%                 |\n",
      "| **Costco**                      | COST       | 4,00%                 |\n",
      "| **MasterCard**                  | MA         | 4,00%                 |\n",
      "| **Novo Nordisk**                | NVO        | 4,00%                 |\n",
      "| **Ulta Beauty**                 | ULTA       | 4,00%                 |\n",
      "| **Visa**                        | V          | 4,00%                 |\n",
      "| **Alphabet**                    | GOOG       | 4,00%                 |\n",
      "| **Johnson and Johnson**         | JNJ        | 3,00%                 |\n",
      "| **Home Depot**                  | HD         | 3,00%                 |\n",
      "| **Lockheed Martin**             | LMT        | 3,00%                 |\n",
      "| **Union Pacific**               | UNP        | 3,00%                 |\n",
      "| **Intuitive Surgical**          | ISRG       | 2,50%                 |\n",
      "| **Adobe**                       | ADBE       | 2,50%                 |\n",
      "| **Brookfield Asset Management** | BAM        | 2,00%                 |\n",
      "\n",
      "Edit: I also have two retirement accounts that are both 100% MSCI World.\n",
      "24 Years old.\n",
      "\n",
      "GOOGL 17% , META 17%, V 15%, MSFT 13%, AAPL 13%, MO 11%, Treasury ETF 4%, C 3%, XLRE 3%, AMZN 2%, GM 1%.\n",
      "\n",
      "This is my taxable portfolio, my ROTH is all in SP500 / Growth mutual funds.\n",
      "\n",
      "My current goals are to build my positions in AMZN and Short-Term US Treasuries to 10% Each. Also, I want to build a position into XLF.\n",
      "r/Stocks Daily Discussion & Technicals Tuesday - Mar 28, 2023\n",
      "This falloff in the daily comment volume must be some kind of indicator. Like a light switch.\n",
      "\n",
      "Did we all tire ourselves out on the markets last week?\n",
      "Looks like a slow day. I guess [I didn't miss anymore of this?](https://i.imgur.com/ndHiJAA.png)\n",
      "Alibaba to split into 6 units\n",
      "Unlocks business value, allows it to be carved out and less threatening to the CCP\n",
      "What does this mean for existing shareholders? Will they get a slice of each of these companies?\n",
      "Apple should end their Google search partnership to make an additional $15 billion in revenue\n",
      "15B in revenue vs 15B in profit? Wonder what's the better choice. Especially when you can have Google writing you blank cheques. Zero costs to Apple.\n",
      "People are just going to use the apple search bar to go to Google\n",
      "Apple launches its Pay Later service\n",
      "Big news, especially for AFRM which is -9% on the day.\n",
      "alright, time to finance a pizza\n"
     ]
    }
   ],
   "source": [
    "for post in subreddit_stocks.hot(limit=5):\n",
    "    print(post.title)\n",
    "    submission = reddit.submission(post.id)\n",
    "    #print the top 2 comments per title submission\n",
    "    counter = 0\n",
    "    for comment in submission.comments:\n",
    "        if comment.body == '[deleted]':\n",
    "            pass\n",
    "        else:\n",
    "            print(comment.body)\n",
    "        counter+=1\n",
    "        if counter == 2:\n",
    "            break"
   ]
  },
  {
   "cell_type": "code",
   "execution_count": null,
   "id": "64025fa3-a63e-49aa-a635-0cd449d1a995",
   "metadata": {},
   "outputs": [],
   "source": []
  }
 ],
 "metadata": {
  "kernelspec": {
   "display_name": "Python 3 (ipykernel)",
   "language": "python",
   "name": "python3"
  },
  "language_info": {
   "codemirror_mode": {
    "name": "ipython",
    "version": 3
   },
   "file_extension": ".py",
   "mimetype": "text/x-python",
   "name": "python",
   "nbconvert_exporter": "python",
   "pygments_lexer": "ipython3",
   "version": "3.11.2"
  }
 },
 "nbformat": 4,
 "nbformat_minor": 5
}
